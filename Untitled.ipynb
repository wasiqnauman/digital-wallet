{
 "cells": [
  {
   "cell_type": "code",
   "execution_count": 68,
   "id": "97fea365-feb5-4351-a003-70336d67fe73",
   "metadata": {},
   "outputs": [],
   "source": [
    "import sqlite3 as sqldb\n",
    "from datetime import date\n",
    "\n",
    "today = date.today()\n",
    "DATABASE = \"./data.db\""
   ]
  },
  {
   "cell_type": "code",
   "execution_count": 69,
   "id": "5c7e95a3-aaf9-492c-ab9a-d5526e694868",
   "metadata": {},
   "outputs": [],
   "source": [
    "def fetchAccList():\n",
    "    conn = sqldb.connect(DATABASE)\n",
    "    conn.row_factory = sqldb.Row\n",
    "    c = conn.cursor()\n",
    "    c.execute(\"SELECT * FROM users;\")\n",
    "    # result = c.fetchall()\n",
    "    result = [dict(row) for row in c.fetchall()]\n",
    "    c.close()\n",
    "    return result"
   ]
  },
  {
   "cell_type": "code",
   "execution_count": 70,
   "id": "3e8104c9-0cb6-4d4f-9789-797bbd3384ad",
   "metadata": {},
   "outputs": [
    {
     "name": "stdout",
     "output_type": "stream",
     "text": [
      "[{'username': 'wasiq', 'password': '123', 'alias': 'wasiq', 'id': 1}, {'username': 'test', 'password': '123', 'alias': None, 'id': 2}, {'username': 't', 'password': '123', 'alias': None, 'id': 3}, {'username': 'testacc', 'password': '123', 'alias': None, 'id': 4}]\n"
     ]
    }
   ],
   "source": [
    "print(fetchAccList())"
   ]
  },
  {
   "cell_type": "code",
   "execution_count": 71,
   "id": "d5c84e0f-395e-411f-af1c-a5588cef45e1",
   "metadata": {},
   "outputs": [],
   "source": [
    "def fetchTransactions():\n",
    "    id = 1\n",
    "    conn = sqldb.connect(DATABASE)\n",
    "    conn.row_factory = sqldb.Row\n",
    "    c = conn.cursor()\n",
    "    query = \"SELECT * FROM TRANSACTIONs WHERE author=? OR recipient=?;\"\n",
    "    params = (id,id,)\n",
    "    c.execute(query, params)\n",
    "    # result = c.fetchall()\n",
    "    result = [dict(row) for row in c.fetchall()]\n",
    "    c.close()\n",
    "    return result"
   ]
  },
  {
   "cell_type": "code",
   "execution_count": 72,
   "id": "b4f3930e-7ce9-44f6-9f8b-d7b829fb918c",
   "metadata": {},
   "outputs": [],
   "source": [
    "def updateTransaction(tID):\n",
    "    conn = sqldb.connect(DATABASE)\n",
    "    conn.row_factory = sqldb.Row\n",
    "    c = conn.cursor()\n",
    "    completed = today.strftime(\"%m/%d/%y\")\n",
    "    query = \"update transactions set status='COMPLETED' where id=3;\"\n",
    "    params = (completed, tID)\n",
    "    c.execute(\"select * from transactions;\")\n",
    "    c.close()"
   ]
  },
  {
   "cell_type": "code",
   "execution_count": 73,
   "id": "6fdb637a-081f-4494-a84d-b8be3e78999d",
   "metadata": {},
   "outputs": [],
   "source": [
    "def test():\n",
    "    conn = sqldb.connect(DATABASE)\n",
    "    conn.row_factory = sqldb.Row\n",
    "    c = conn.cursor()\n",
    "    c.execute(\"update transactions set status='PENDING' where id=3;\")\n",
    "    c.close()"
   ]
  },
  {
   "cell_type": "code",
   "execution_count": 66,
   "id": "481e3c3a-a277-4176-b81a-06e20e6896a0",
   "metadata": {},
   "outputs": [],
   "source": [
    "updateTransaction(3)"
   ]
  },
  {
   "cell_type": "code",
   "execution_count": 74,
   "id": "e75c4a22-c697-461e-bda5-0eec71366bc9",
   "metadata": {},
   "outputs": [
    {
     "ename": "OperationalError",
     "evalue": "database is locked",
     "output_type": "error",
     "traceback": [
      "\u001b[0;31m---------------------------------------------------------------------------\u001b[0m",
      "\u001b[0;31mOperationalError\u001b[0m                          Traceback (most recent call last)",
      "\u001b[0;32m/var/folders/2c/7pd4zggx4z12hfcd8581lqj40000gn/T/ipykernel_4249/756179265.py\u001b[0m in \u001b[0;36m<module>\u001b[0;34m\u001b[0m\n\u001b[0;32m----> 1\u001b[0;31m \u001b[0mtest\u001b[0m\u001b[0;34m(\u001b[0m\u001b[0;34m)\u001b[0m\u001b[0;34m\u001b[0m\u001b[0;34m\u001b[0m\u001b[0m\n\u001b[0m",
      "\u001b[0;32m/var/folders/2c/7pd4zggx4z12hfcd8581lqj40000gn/T/ipykernel_4249/4251362542.py\u001b[0m in \u001b[0;36mtest\u001b[0;34m()\u001b[0m\n\u001b[1;32m      3\u001b[0m     \u001b[0mconn\u001b[0m\u001b[0;34m.\u001b[0m\u001b[0mrow_factory\u001b[0m \u001b[0;34m=\u001b[0m \u001b[0msqldb\u001b[0m\u001b[0;34m.\u001b[0m\u001b[0mRow\u001b[0m\u001b[0;34m\u001b[0m\u001b[0;34m\u001b[0m\u001b[0m\n\u001b[1;32m      4\u001b[0m     \u001b[0mc\u001b[0m \u001b[0;34m=\u001b[0m \u001b[0mconn\u001b[0m\u001b[0;34m.\u001b[0m\u001b[0mcursor\u001b[0m\u001b[0;34m(\u001b[0m\u001b[0;34m)\u001b[0m\u001b[0;34m\u001b[0m\u001b[0;34m\u001b[0m\u001b[0m\n\u001b[0;32m----> 5\u001b[0;31m     \u001b[0mc\u001b[0m\u001b[0;34m.\u001b[0m\u001b[0mexecute\u001b[0m\u001b[0;34m(\u001b[0m\u001b[0;34m\"update transactions set status='PENDING' where id=3;\"\u001b[0m\u001b[0;34m)\u001b[0m\u001b[0;34m\u001b[0m\u001b[0;34m\u001b[0m\u001b[0m\n\u001b[0m\u001b[1;32m      6\u001b[0m     \u001b[0mc\u001b[0m\u001b[0;34m.\u001b[0m\u001b[0mclose\u001b[0m\u001b[0;34m(\u001b[0m\u001b[0;34m)\u001b[0m\u001b[0;34m\u001b[0m\u001b[0;34m\u001b[0m\u001b[0m\n",
      "\u001b[0;31mOperationalError\u001b[0m: database is locked"
     ]
    }
   ],
   "source": [
    "test()"
   ]
  },
  {
   "cell_type": "code",
   "execution_count": null,
   "id": "f34afc9c-38e3-4021-b43f-30bd64de3fd6",
   "metadata": {},
   "outputs": [],
   "source": [
    "fetchTransactions()"
   ]
  },
  {
   "cell_type": "code",
   "execution_count": 4,
   "id": "f5ad3442-ba1a-4314-9007-58d1bce9f90b",
   "metadata": {},
   "outputs": [],
   "source": [
    "from time import sleep"
   ]
  },
  {
   "cell_type": "code",
   "execution_count": 9,
   "id": "3422c1d5",
   "metadata": {},
   "outputs": [
    {
     "name": "stdout",
     "output_type": "stream",
     "text": [
      ".........."
     ]
    }
   ],
   "source": [
    "for i in range(10):\n",
    "        print('.', end='')\n",
    "        sleep(0.5)"
   ]
  },
  {
   "cell_type": "code",
   "execution_count": null,
   "id": "0afd7f3b",
   "metadata": {},
   "outputs": [],
   "source": []
  }
 ],
 "metadata": {
  "kernelspec": {
   "display_name": "Python 3 (ipykernel)",
   "language": "python",
   "name": "python3"
  },
  "language_info": {
   "codemirror_mode": {
    "name": "ipython",
    "version": 3
   },
   "file_extension": ".py",
   "mimetype": "text/x-python",
   "name": "python",
   "nbconvert_exporter": "python",
   "pygments_lexer": "ipython3",
   "version": "3.9.5"
  }
 },
 "nbformat": 4,
 "nbformat_minor": 5
}
